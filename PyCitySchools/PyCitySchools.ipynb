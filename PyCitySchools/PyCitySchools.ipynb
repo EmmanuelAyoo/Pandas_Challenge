{
 "cells": [
  {
   "cell_type": "code",
   "execution_count": null,
   "metadata": {},
   "outputs": [],
   "source": [
    "# Import pandas module and overall setup\n",
    "import pandas as pd\n",
    "\n",
    "# Store filepath in a variable\n",
    "school_data_upload = \"Resources/schools_complete.csv\"\n",
    "student_data_upload = \"Resources/students_complete.csv\"\n",
    "\n",
    "#Read School and Student data File and store into Panda DataFrames\n",
    "school_data_df = pd.read_csv(school_data_upload)\n",
    "student_data_df = pd.read_csv(student_data_upload)\n",
    "\n",
    "#Combine Data into a single dataset\n",
    "school_data_combined = pd.merge(student_data, school_data, how=\"left\", on=[\"school_name\", \"school_name\"])\n"
   ]
  },
  {
   "cell_type": "code",
   "execution_count": null,
   "metadata": {},
   "outputs": [],
   "source": []
  }
 ],
 "metadata": {
  "kernelspec": {
   "display_name": "Python 3",
   "language": "python",
   "name": "python3"
  },
  "language_info": {
   "codemirror_mode": {
    "name": "ipython",
    "version": 3
   },
   "file_extension": ".py",
   "mimetype": "text/x-python",
   "name": "python",
   "nbconvert_exporter": "python",
   "pygments_lexer": "ipython3",
   "version": "3.7.4"
  }
 },
 "nbformat": 4,
 "nbformat_minor": 2
}
